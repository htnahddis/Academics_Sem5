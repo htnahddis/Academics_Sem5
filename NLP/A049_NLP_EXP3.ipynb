{
  "nbformat": 4,
  "nbformat_minor": 0,
  "metadata": {
    "colab": {
      "provenance": []
    },
    "kernelspec": {
      "name": "python3",
      "display_name": "Python 3"
    },
    "language_info": {
      "name": "python"
    }
  },
  "cells": [
    {
      "cell_type": "markdown",
      "source": [
        " Download and Unzip Stanford NER\n",
        "\n",
        "---\n",
        "\n",
        "\n",
        "This cell handles the initial setup by downloading the necessary files from Stanford's servers.\n",
        "\n",
        "Define Paths: It starts by defining the URL for the Stanford NER software, the name of the directory it will be extracted to, and the name for the downloaded zip file.\n",
        "\n",
        "Download: It checks if the zip file (stanford-ner.zip) already exists. If not, it downloads the file from the specified URL using urllib.request.urlretrieve.\n",
        "\n",
        "Extract: After the download, it checks if the target directory (stanford-ner-2018-10-16) exists. If not, it unzips the downloaded file into the current directory using the zipfile library.\n",
        "\n",
        "Essentially, this cell automates the process of getting the required third-party software onto your machine."
      ],
      "metadata": {
        "id": "xwuP_veQd0-D"
      }
    },
    {
      "cell_type": "code",
      "source": [
        "import os\n",
        "import urllib.request\n",
        "import zipfile"
      ],
      "metadata": {
        "id": "rHjTKSdfc9vB"
      },
      "execution_count": 26,
      "outputs": []
    },
    {
      "cell_type": "markdown",
      "source": [
        "Initialize the NER Tagger\n",
        "\n",
        "---\n",
        "\n",
        "\n",
        "This cell prepares and loads the core NER tagger from the files that were just extracted.\n",
        "\n",
        "Set File Paths: It creates the full paths to two critical files:\n",
        "\n",
        "jar: The executable Java archive (.jar) file that contains the Stanford NER program logic.\n",
        "\n",
        "model: A pre-trained machine learning model file (.ser.gz) that knows how to identify entities in English text. This specific model is trained to recognize 4 classes of entities.\n",
        "\n",
        "Initialize Tagger: It checks if both the jar and model files actually exist at the specified paths. If they do, it initializes the StanfordNERTagger from the NLTK library, pointing it to these two files. The tagger is now ready to be used.\n",
        "\n"
      ],
      "metadata": {
        "id": "GTOHeedMeCbx"
      }
    },
    {
      "cell_type": "code",
      "source": [
        "# Define the download URL and target directory\n",
        "stanford_ner_url = 'https://nlp.stanford.edu/software/stanford-ner-2018-10-16.zip'\n",
        "stanford_ner_dir = 'stanford-ner-2018-10-16'\n",
        "stanford_ner_zip = 'stanford-ner.zip'"
      ],
      "metadata": {
        "id": "L4AhHNpOdVYO"
      },
      "execution_count": 27,
      "outputs": []
    },
    {
      "cell_type": "code",
      "source": [
        "# Download the Stanford NER library\n",
        "if not os.path.exists(stanford_ner_zip):\n",
        "    print(f\"Downloading {stanford_ner_url}...\")\n",
        "    urllib.request.urlretrieve(stanford_ner_url, stanford_ner_zip)\n",
        "    print(\"Download complete.\")\n",
        "else:\n",
        "    print(f\"{stanford_ner_zip} already exists.\")\n",
        "\n",
        "# Extract the downloaded zip file\n",
        "if not os.path.exists(stanford_ner_dir):\n",
        "    print(f\"Extracting {stanford_ner_zip}...\")\n",
        "    with zipfile.ZipFile(stanford_ner_zip, 'r') as zip_ref:\n",
        "        zip_ref.extractall('.')\n",
        "    print(\"Extraction complete.\")\n",
        "else:\n",
        "    print(f\"{stanford_ner_dir} already exists.\")"
      ],
      "metadata": {
        "colab": {
          "base_uri": "https://localhost:8080/"
        },
        "id": "rD3YS165dXF0",
        "outputId": "bf617578-43f3-483d-9915-665233ba53c7"
      },
      "execution_count": 28,
      "outputs": [
        {
          "output_type": "stream",
          "name": "stdout",
          "text": [
            "Downloading https://nlp.stanford.edu/software/stanford-ner-2018-10-16.zip...\n",
            "Download complete.\n",
            "Extracting stanford-ner.zip...\n",
            "Extraction complete.\n"
          ]
        }
      ]
    },
    {
      "cell_type": "code",
      "source": [
        "from nltk.tag.stanford import StanfordNERTagger\n",
        "import os\n",
        "\n",
        "# Update the jar and model paths to the extracted directory\n",
        "jar = os.path.join(stanford_ner_dir, 'stanford-ner.jar')\n",
        "model = os.path.join(stanford_ner_dir, 'classifiers/english.conll.4class.distsim.crf.ser.gz')\n",
        "\n",
        "# Check if the files exist before initializing the tagger\n",
        "if os.path.exists(jar) and os.path.exists(model):\n",
        "    ner_tagger = StanfordNERTagger(model, jar, encoding='utf8')\n",
        "    print(\"StanfordNERTagger initialized successfully.\")\n",
        "else:\n",
        "    print(f\"Error: Could not find {jar} or {model}. Please check the paths.\")"
      ],
      "metadata": {
        "colab": {
          "base_uri": "https://localhost:8080/"
        },
        "id": "tULVaSsFdYyb",
        "outputId": "a1979139-fe13-4441-8674-eb624e87e5ff"
      },
      "execution_count": 29,
      "outputs": [
        {
          "output_type": "stream",
          "name": "stdout",
          "text": [
            "StanfordNERTagger initialized successfully.\n"
          ]
        }
      ]
    },
    {
      "cell_type": "markdown",
      "source": [
        "Initialize a Specific 4-Class Model (Redundant)\n",
        "\n",
        "---\n",
        "\n",
        "\n",
        "This cell is functionally identical to the previous one.\n",
        "\n",
        "It re-defines the path to the same 4-class English model and initializes another StanfordNERTagger instance named st_4class. Since the variable ner_tagger was already created in the previous cell using the exact same model and JAR file, this cell is redundant but reinforces how the tagger is loaded."
      ],
      "metadata": {
        "id": "vjy1XPJGepGb"
      }
    },
    {
      "cell_type": "code",
      "source": [
        "import os\n",
        "\n",
        "st_4class_model_name = 'english.conll.4class.distsim.crf.ser.gz'\n",
        "st_4class_model_path = os.path.join(stanford_ner_dir, 'classifiers', st_4class_model_name)\n",
        "\n",
        "# Check if the file exists before initializing the tagger\n",
        "if os.path.exists(st_4class_model_path) and os.path.exists(jar):\n",
        "    st_4class = StanfordNERTagger(st_4class_model_path, jar, encoding='utf8')\n",
        "    print(\"StanfordNERTagger with 4-class model initialized successfully.\")\n",
        "else:\n",
        "    print(f\"Error: Could not find {st_4class_model_path} or {jar}. Please check the paths.\")"
      ],
      "metadata": {
        "colab": {
          "base_uri": "https://localhost:8080/"
        },
        "id": "q4jPJ_P7dbX7",
        "outputId": "97e74eb9-cb6d-444f-819a-407bda05f4ca"
      },
      "execution_count": 30,
      "outputs": [
        {
          "output_type": "stream",
          "name": "stdout",
          "text": [
            "StanfordNERTagger with 4-class model initialized successfully.\n"
          ]
        }
      ]
    },
    {
      "cell_type": "markdown",
      "source": [
        "Perform NER Tagging on a Sentence\n",
        "\n",
        "---\n",
        "\n",
        "\n",
        "This is the cell where the NER tagger is put to use.\n",
        "\n",
        "Define Sentence: A sample sentence, \"Barack Obama is the 44th President of the United States.\", is created.\n",
        "\n",
        "Tag Sentence: The .tag() method of the ner_tagger is called. It requires the sentence to be split into a list of words, which is done using sentence.split(). The tagger processes this list and assigns an entity tag to each word.\n",
        "\n",
        "Print Results: The output is a list of tuples. Each tuple contains a word from the original sentence and its predicted entity tag. For this sentence, you would expect to see"
      ],
      "metadata": {
        "id": "ckaplTE5ejF2"
      }
    },
    {
      "cell_type": "code",
      "source": [
        "sentence = \"Barack Obama is the 44th President of the United States.\"\n",
        "\n",
        "tagged_sentence = ner_tagger.tag(sentence.split())\n",
        "\n",
        "print(tagged_sentence)"
      ],
      "metadata": {
        "colab": {
          "base_uri": "https://localhost:8080/"
        },
        "id": "vPJZIIn5ddmx",
        "outputId": "e178c4d9-7767-4e0d-dcc9-94f68bb784ed"
      },
      "execution_count": 31,
      "outputs": [
        {
          "output_type": "stream",
          "name": "stdout",
          "text": [
            "[('Barack', 'PERSON'), ('Obama', 'PERSON'), ('is', 'O'), ('the', 'O'), ('44th', 'O'), ('President', 'O'), ('of', 'O'), ('the', 'O'), ('United', 'LOCATION'), ('States.', 'LOCATION')]\n"
          ]
        }
      ]
    }
  ]
}